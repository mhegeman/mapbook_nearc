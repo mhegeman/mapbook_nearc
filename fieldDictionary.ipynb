{
 "cells": [
  {
   "cell_type": "code",
   "execution_count": 10,
   "metadata": {
    "collapsed": true
   },
   "outputs": [],
   "source": [
    "def summaryTable(selectedWetlands, selectedDECtidalwetlands, sumField, caseField, strYear):\n",
    "    #select only tw in the designated property\n",
    "    arcpy.SelectLayerByLocation_management(selectedWetlands, \"INTERSECT\", selectedDECtidalwetlands)\n",
    "    #remove spaces from map name\n",
    "    tableName = mapName.replace(\" \",\"\")\n",
    "    outputTable = tableName + \"summaryTable\" + strYear\n",
    "    arcpy.Statistics_analysis(selectedWetlands, outputTable, [[sumField,\"SUM\"]], caseField)\n",
    "    wetlandsTable = arcpy.mapping.TableView(outputTable)\n",
    "    return wetlandsTable"
   ]
  },
  {
   "cell_type": "code",
   "execution_count": 26,
   "metadata": {
    "collapsed": true
   },
   "outputs": [],
   "source": [
    "#lines up the columns\n",
    "#if key has XX in it...set element position x to y\n",
    "def centerColumns():\n",
    "    textDict['tblfm1974'].elementPositionX = xPosMiddleCol\n",
    "    textDict['tblhm1974'].elementPositionX = xPosMiddleCol\n",
    "    textDict['tblim1974'].elementPositionX = xPosMiddleCol\n",
    "    textDict['tblpanne1974'].elementPositionX = xPosMiddleCol\n",
    "    textDict['tblphrag1974'].elementPositionX = xPosMiddleCol\n",
    "    textDict['tblunv1974'].elementPositionX = xPosMiddleCol\n",
    "    textDict['tblup1974'].elementPositionX = xPosMiddleCol\n",
    "    \n",
    "    textDict['tblfm2008'].elementPositionX = xPosRightCol\n",
    "    textDict['tblhm2008'].elementPositionX = xPosRightCol\n",
    "    textDict['tblim2008'].elementPositionX = xPosRightCol\n",
    "    textDict['tblpanne2008'].elementPositionX = xPosRightCol\n",
    "    textDict['tblphrag2008'].elementPositionX = xPosRightCol\n",
    "    textDict['tblunv2008'].elementPositionX = xPosRightCol\n",
    "    textDict['tblup2008'].elementPositionX = xPosRightCol\n",
    "    \n",
    "    textDict['tblfm_Acres'].elementPositionX = xPosDiffAcres\n",
    "    textDict['tblhm_Acres'].elementPositionX = xPosDiffAcres\n",
    "    textDict['tblim_Acres'].elementPositionX = xPosDiffAcres\n",
    "    textDict['tblpanne_Acres'].elementPositionX = xPosDiffAcres\n",
    "    textDict['tblphrag_Acres'].elementPositionX = xPosDiffAcres\n",
    "    textDict['tblunv_Acres'].elementPositionX = xPosDiffAcres\n",
    "    textDict['tblup_Acres'].elementPositionX = xPosDiffAcres\n",
    "    \n",
    "    textDict['tblfm_Per'].elementPositionX = xPosDiffPerc\n",
    "    textDict['tblhm_Per'].elementPositionX = xPosDiffPerc\n",
    "    textDict['tblim_Per'].elementPositionX = xPosDiffPerc\n",
    "    textDict['tblpanne_Per'].elementPositionX = xPosDiffPerc\n",
    "    textDict['tblphrag_Per'].elementPositionX = xPosDiffPerc\n",
    "    textDict['tblunv_Per'].elementPositionX = xPosDiffPerc\n",
    "    textDict['tblup_Per'].elementPositionX = xPosDiffPerc"
   ]
  },
  {
   "cell_type": "code",
   "execution_count": 22,
   "metadata": {
    "collapsed": true
   },
   "outputs": [],
   "source": [
    "def setToZero():\n",
    "    #set the table to zero\n",
    "    for key in textDict:\n",
    "    \n",
    "        if key == 'tblpanne1974' or key == 'tblunv1974' or key == 'tblup1974':\n",
    "            textDict[key].text = \"not measured\"\n",
    "        \n",
    "        elif key == 'tblpanne_Acres' or key == 'tblun_Acres' or key == 'tblup_Acres':\n",
    "            textDict[key].text = \"NA\"\n",
    "        elif key == 'tblpanne_Per' or key == 'tblun_Per' or key == 'tblup_Per':\n",
    "            textDict[key].text = \"NA\"\n",
    "        else:\n",
    "            textDict[key].text = 0"
   ]
  },
  {
   "cell_type": "code",
   "execution_count": 38,
   "metadata": {
    "collapsed": true
   },
   "outputs": [],
   "source": [
    "def calculateDifference():\n",
    "    fmAcres = textDict['tblfm_Acres']\n",
    "    fm2008 =textDict['tblfm2008']\n",
    "    hmAcres=textDict['tblhm_Acres']\n",
    "    hm2008 = textDict['tblhm2008']\n",
    "    hm1974 = textDict['tblhm1974']\n",
    "    imAcres = textDict['tblim_Acres']\n",
    "    im2008 = textDict['tblim2008']\n",
    "    im1974 = textDict['tblim1974']\n",
    "    phragAcres = textDict['tblphrag_Acres']\n",
    "    phrag2008 = textDict['tblphrag2008']\n",
    "    phrag1974 = textDict['tblphrag1974']\n",
    "    fmPerc = textDict['tblfm_Per']\n",
    "    hmPerc = textDict['tblhm_Per']\n",
    "    imPerc = textDict['tblim_Per']\n",
    "    phragPerc = textDict['tblphrag_Per']\n",
    "    fmAcres.text = str(float(fm2008.text) - float(textDict['tblfm1974'].text))\n",
    "    hmAcres.text = str(float(hm2008.text) - float(hm1974.text))\n",
    "    imAcres.text = str(float(im2008.text) - float(im1974.text))\n",
    "    phragAcres.text = str(float(phrag2008.text) - float(phrag1974.text))\n",
    "    \n",
    "    if float(textDict['tblfm1974'].text)>0:\n",
    "        percent1 = (float(fmAcres.text)/float(textDict['tblfm1974'].text))*100\n",
    "        fmPerc.text = str(\"%.2f\" % percent1)\n",
    "    if float(hm1974.text)>0:\n",
    "        percent2 = (float(hmAcres.text)/float(hm1974.text))\n",
    "        hmPerc.text = str(\"%.2f\" % percent2)\n",
    "    if float(im1974.text)>0:\n",
    "        percent3 = (float(imAcres.text)/float(im1974.text))*100\n",
    "        imPerc.text = str(\"%.2f\" % percent3)\n",
    "    if float(phrag1974.text)>0:\n",
    "        percent4 = (float(phragAcres.text)/float(phrag1974.text))*100\n",
    "        phragPerc.text = str(\"%.2f\" % percent4)"
   ]
  },
  {
   "cell_type": "code",
   "execution_count": 9,
   "metadata": {
    "collapsed": true
   },
   "outputs": [],
   "source": [
    "def updateHeader(template, mapName, townName, embaymentName):\n",
    "     #Update the title placement and content\n",
    "    template.title = mapName\n",
    "    newName = arcpy.mapping.ListLayoutElements(template, \"TEXT_ELEMENT\", \"name\")[0]\n",
    "    newName.elementPositionX, newName.elementPositionY = 0.25, 10.75+3\n",
    "    #make sure title fits on page\n",
    "    if newName.elementWidth > 8:\n",
    "        newName.elementWidth = 8\n",
    "    #update the town and embayment\n",
    "    town = arcpy.mapping.ListLayoutElements(template, \"TEXT_ELEMENT\", \"town\")[0]\n",
    "    town.text = \"Town: \" + townName\n",
    "    town.elementPositionX, town.elementPositionY = 0.25, 10.25+3\n",
    "    if town.elementWidth > 6:\n",
    "        town.elementWidth = 6\n",
    "    \n",
    "    embayment = arcpy.mapping.ListLayoutElements(template, \"TEXT_ELEMENT\", \"embayment\")[0]\n",
    "    embayment.text = \"Embayment: \" + embaymentName\n",
    "    embayment.elementPositionX, embayment.elementPositionY = 0.25, 10+3\n",
    "    if embayment.elementWidth > 6:\n",
    "        embayment.elementWidth = 6 \n",
    "    else: pass"
   ]
  },
  {
   "cell_type": "code",
   "execution_count": 29,
   "metadata": {
    "collapsed": true
   },
   "outputs": [],
   "source": [
    "import arcpy\n",
    "\n",
    "arcpy.env.overwriteOutput = True\n",
    "\n",
    "#Set the workspace\n",
    "arcpy.env.workspace = r\"C:\\Users\\maalbino\\Documents\\GIS\\mapbooks\\mapbook.gdb\"\n",
    "arcpy.env.scratchWorkspace = r\"C:\\Users\\maalbino\\Documents\\GIS\\mapbooks\\mapbook.gdb\"\n",
    "mapLocation = r\"C:\\Users\\maalbino\\Documents\\GIS\\mapbooks\\mapstest\"\n",
    "\n",
    "#define the template .mxd\n",
    "#which mxd is your template?\n",
    "mapdoc = r\"C:\\Users\\maalbino\\Documents\\GIS\\mapbooks\\layout_template.mxd\"\n",
    "template = arcpy.mapping.MapDocument(mapdoc)\n",
    "\n",
    "#define the dataframes\n",
    "dfBefore = arcpy.mapping.ListDataFrames(template, \"1974\")[0]\n",
    "dfAfter = arcpy.mapping.ListDataFrames(template, \"2008\")[0]"
   ]
  },
  {
   "cell_type": "code",
   "execution_count": 30,
   "metadata": {
    "collapsed": false
   },
   "outputs": [],
   "source": [
    "#define the columns\n",
    "cols = arcpy.mapping.ListLayoutElements(template,\"TEXT_ELEMENT\",\"*Col\")\n",
    "colsDict = {col.name:col for col in cols}\n",
    "\n",
    "#define the rows\n",
    "records = arcpy.mapping.ListLayoutElements(template,\"TEXT_ELEMENT\",\"*Row\")\n",
    "rowsDict = {record.name:record for record in records}\n",
    "\n",
    "#define all text elements in the table\n",
    "textBoxes = arcpy.mapping.ListLayoutElements(template,\"TEXT_ELEMENT\",\"tbl*\")\n",
    "textDict ={x.name:x for x in textBoxes}"
   ]
  },
  {
   "cell_type": "code",
   "execution_count": 31,
   "metadata": {
    "collapsed": false
   },
   "outputs": [],
   "source": [
    "#define the center of each column\n",
    "xPosLeftCol = colsDict['CategoryCol'].elementPositionX\n",
    "xPosMiddleCol = colsDict['acreage1974Col'].elementPositionX\n",
    "xPosRightCol = colsDict['acreage2008Col'].elementPositionX\n",
    "xPosDiffAcres = colsDict['DiffAcresCol'].elementPositionX\n",
    "xPosDiffPerc = colsDict['DiffPercentCol'].elementPositionX\n"
   ]
  },
  {
   "cell_type": "code",
   "execution_count": 32,
   "metadata": {
    "collapsed": false
   },
   "outputs": [],
   "source": [
    "setToZero()\n",
    "        \n",
    "    \n"
   ]
  },
  {
   "cell_type": "code",
   "execution_count": 33,
   "metadata": {
    "collapsed": false
   },
   "outputs": [
    {
     "name": "stdout",
     "output_type": "stream",
     "text": [
      "feature layer a success\n",
      "feature layer a success_2\n"
     ]
    }
   ],
   "source": [
    "#make tidal wetlands feature layers for 1974 and 2005/2008\n",
    "try:\n",
    "    arcpy.MakeFeatureLayer_management(r\"data\\tw20052008NAD83clip\",\"selectedWetlands2008\")\n",
    "    print \"feature layer a success\"\n",
    "except:\n",
    "    print arcpy.GetMessages()\n",
    "try:\n",
    "    arcpy.MakeFeatureLayer_management(r\"data\\tw1974enhancedNAD83_clip\",\"selectedWetlands1974\")\n",
    "    print \"feature layer a success_2\"\n",
    "except:\n",
    "    print arcpy.GetMessages()"
   ]
  },
  {
   "cell_type": "code",
   "execution_count": 39,
   "metadata": {
    "collapsed": false,
    "scrolled": true
   },
   "outputs": [
    {
     "ename": "KeyboardInterrupt",
     "evalue": "",
     "output_type": "error",
     "traceback": [
      "\u001b[1;31m---------------------------------------------------------------------------\u001b[0m",
      "\u001b[1;31mKeyboardInterrupt\u001b[0m                         Traceback (most recent call last)",
      "\u001b[1;32m<ipython-input-39-92b1844e6f08>\u001b[0m in \u001b[0;36m<module>\u001b[1;34m()\u001b[0m\n\u001b[0;32m     73\u001b[0m \u001b[1;33m\u001b[0m\u001b[0m\n\u001b[0;32m     74\u001b[0m \u001b[1;33m\u001b[0m\u001b[0m\n\u001b[1;32m---> 75\u001b[1;33m     \u001b[0mcalculateDifference\u001b[0m\u001b[1;33m(\u001b[0m\u001b[1;33m)\u001b[0m\u001b[1;33m\u001b[0m\u001b[0m\n\u001b[0m\u001b[0;32m     76\u001b[0m \u001b[1;33m\u001b[0m\u001b[0m\n\u001b[0;32m     77\u001b[0m     \u001b[0mcenterColumns\u001b[0m\u001b[1;33m(\u001b[0m\u001b[1;33m)\u001b[0m\u001b[1;33m\u001b[0m\u001b[0m\n",
      "\u001b[1;32m<ipython-input-38-9a1eb235945a>\u001b[0m in \u001b[0;36mcalculateDifference\u001b[1;34m()\u001b[0m\n\u001b[0;32m     16\u001b[0m     \u001b[0mphragPerc\u001b[0m \u001b[1;33m=\u001b[0m \u001b[0mtextDict\u001b[0m\u001b[1;33m[\u001b[0m\u001b[1;34m'tblphrag_Per'\u001b[0m\u001b[1;33m]\u001b[0m\u001b[1;33m\u001b[0m\u001b[0m\n\u001b[0;32m     17\u001b[0m     \u001b[0mfmAcres\u001b[0m\u001b[1;33m.\u001b[0m\u001b[0mtext\u001b[0m \u001b[1;33m=\u001b[0m \u001b[0mstr\u001b[0m\u001b[1;33m(\u001b[0m\u001b[0mfloat\u001b[0m\u001b[1;33m(\u001b[0m\u001b[0mfm2008\u001b[0m\u001b[1;33m.\u001b[0m\u001b[0mtext\u001b[0m\u001b[1;33m)\u001b[0m \u001b[1;33m-\u001b[0m \u001b[0mfloat\u001b[0m\u001b[1;33m(\u001b[0m\u001b[0mtextDict\u001b[0m\u001b[1;33m[\u001b[0m\u001b[1;34m'tblfm1974'\u001b[0m\u001b[1;33m]\u001b[0m\u001b[1;33m.\u001b[0m\u001b[0mtext\u001b[0m\u001b[1;33m)\u001b[0m\u001b[1;33m)\u001b[0m\u001b[1;33m\u001b[0m\u001b[0m\n\u001b[1;32m---> 18\u001b[1;33m     \u001b[0mhmAcres\u001b[0m\u001b[1;33m.\u001b[0m\u001b[0mtext\u001b[0m \u001b[1;33m=\u001b[0m \u001b[0mstr\u001b[0m\u001b[1;33m(\u001b[0m\u001b[0mfloat\u001b[0m\u001b[1;33m(\u001b[0m\u001b[0mhm2008\u001b[0m\u001b[1;33m.\u001b[0m\u001b[0mtext\u001b[0m\u001b[1;33m)\u001b[0m \u001b[1;33m-\u001b[0m \u001b[0mfloat\u001b[0m\u001b[1;33m(\u001b[0m\u001b[0mhm1974\u001b[0m\u001b[1;33m.\u001b[0m\u001b[0mtext\u001b[0m\u001b[1;33m)\u001b[0m\u001b[1;33m)\u001b[0m\u001b[1;33m\u001b[0m\u001b[0m\n\u001b[0m\u001b[0;32m     19\u001b[0m     \u001b[0mimAcres\u001b[0m\u001b[1;33m.\u001b[0m\u001b[0mtext\u001b[0m \u001b[1;33m=\u001b[0m \u001b[0mstr\u001b[0m\u001b[1;33m(\u001b[0m\u001b[0mfloat\u001b[0m\u001b[1;33m(\u001b[0m\u001b[0mim2008\u001b[0m\u001b[1;33m.\u001b[0m\u001b[0mtext\u001b[0m\u001b[1;33m)\u001b[0m \u001b[1;33m-\u001b[0m \u001b[0mfloat\u001b[0m\u001b[1;33m(\u001b[0m\u001b[0mim1974\u001b[0m\u001b[1;33m.\u001b[0m\u001b[0mtext\u001b[0m\u001b[1;33m)\u001b[0m\u001b[1;33m)\u001b[0m\u001b[1;33m\u001b[0m\u001b[0m\n\u001b[0;32m     20\u001b[0m     \u001b[0mphragAcres\u001b[0m\u001b[1;33m.\u001b[0m\u001b[0mtext\u001b[0m \u001b[1;33m=\u001b[0m \u001b[0mstr\u001b[0m\u001b[1;33m(\u001b[0m\u001b[0mfloat\u001b[0m\u001b[1;33m(\u001b[0m\u001b[0mphrag2008\u001b[0m\u001b[1;33m.\u001b[0m\u001b[0mtext\u001b[0m\u001b[1;33m)\u001b[0m \u001b[1;33m-\u001b[0m \u001b[0mfloat\u001b[0m\u001b[1;33m(\u001b[0m\u001b[0mphrag1974\u001b[0m\u001b[1;33m.\u001b[0m\u001b[0mtext\u001b[0m\u001b[1;33m)\u001b[0m\u001b[1;33m)\u001b[0m\u001b[1;33m\u001b[0m\u001b[0m\n",
      "\u001b[1;32mc:\\Program Files\\ArcGIS\\Desktop10.3\\arcpy\\arcpy\\arcobjects\\_base.pyc\u001b[0m in \u001b[0;36m_get\u001b[1;34m(self)\u001b[0m\n\u001b[0;32m     71\u001b[0m     \u001b[1;32mdef\u001b[0m \u001b[0m_get\u001b[0m\u001b[1;33m(\u001b[0m\u001b[0mself\u001b[0m\u001b[1;33m)\u001b[0m\u001b[1;33m:\u001b[0m\u001b[1;33m\u001b[0m\u001b[0m\n\u001b[0;32m     72\u001b[0m         \u001b[1;32mtry\u001b[0m\u001b[1;33m:\u001b[0m\u001b[1;33m\u001b[0m\u001b[0m\n\u001b[1;32m---> 73\u001b[1;33m             \u001b[1;32mreturn\u001b[0m \u001b[0mconvertArcObjectToPythonObject\u001b[0m\u001b[1;33m(\u001b[0m\u001b[0mgetattr\u001b[0m\u001b[1;33m(\u001b[0m\u001b[0mself\u001b[0m\u001b[1;33m.\u001b[0m\u001b[0m_arc_object\u001b[0m\u001b[1;33m,\u001b[0m \u001b[0mattr_name\u001b[0m\u001b[1;33m)\u001b[0m\u001b[1;33m)\u001b[0m\u001b[1;33m\u001b[0m\u001b[0m\n\u001b[0m\u001b[0;32m     74\u001b[0m         \u001b[1;32mexcept\u001b[0m \u001b[0mAttributeError\u001b[0m\u001b[1;33m:\u001b[0m\u001b[1;33m\u001b[0m\u001b[0m\n\u001b[0;32m     75\u001b[0m             raise NameError(\n",
      "\u001b[1;31mKeyboardInterrupt\u001b[0m: "
     ]
    }
   ],
   "source": [
    "#Cycle through the DEC lands, make a new map for each property\n",
    "rows = arcpy.SearchCursor(r\"data\\DEC_tidalwetlands\", \"\", \"\", \"\", \"\")\n",
    "for row in rows:\n",
    "    mapName = row.getValue(\"FACILITY\")\n",
    "    objectID = row.getValue(\"OBJECTID\")\n",
    "    townName = row.getValue(\"Town\")\n",
    "    embaymentName = row.getValue(\"Embayment\")\n",
    "    #make sure the name is a string, filters out the nulls\n",
    "    if isinstance(mapName, unicode) == False:        \n",
    "        mapName = \"unnamed\"+str(objectID)\n",
    "    else: pass\n",
    "    #print \"\\n\" + mapName\n",
    "    updateHeader(template, mapName, townName, embaymentName)\n",
    "    #dec lands query statement, only show features that match the facility name\n",
    "    query = \" FACILITY = '\" + mapName + \"'\" \n",
    "      \n",
    "    #define layer and create definition query\n",
    "    decLands74 = arcpy.mapping.ListLayers(template, \"DEC_tidalwetlands\", dfBefore)[0]\n",
    "    decLands74.definitionQuery = query\n",
    "    \n",
    "    #pan to the extent of the stations layer\n",
    "    dfBefore.extent = decLands74.getSelectedExtent()\n",
    "    \n",
    "    #match dataframes\n",
    "    dfAfter.extent = dfBefore.extent\n",
    "    decLands0508 = arcpy.mapping.ListLayers(template, \"DEC_tidalwetlands\", dfAfter)[0]\n",
    "    decLands0508.definitionQuery = query\n",
    "    \n",
    "    #make feature layer of DEC wetlands\n",
    "    arcpy.MakeFeatureLayer_management(\"DEC_tidalwetlands\",\"selectedDECtidalwetlands2008\", query, \"\", \"\")\n",
    "    arcpy.MakeFeatureLayer_management(\"DEC_tidalwetlands\",\"selectedDECtidalwetlands1974\", query, \"\", \"\")\n",
    "    \n",
    "    #Summarize 2005/2008 wetlands\n",
    "    wetlands2008Table = summaryTable(\"selectedWetlands2008\", \"selectedDECtidalwetlands2008\", \"Acreage\", \"TWL_Class\", \"2008\")\n",
    "    arcpy.mapping.AddTableView(dfAfter, wetlands2008Table)\n",
    "\n",
    "    wetlands1974Table = summaryTable(\"selectedWetlands1974\", \"selectedDECtidalwetlands1974\", \"Acreage\", \"TWCAT74\", \"1974\")\n",
    "    arcpy.mapping.AddTableView(dfBefore, wetlands1974Table) \n",
    "        \n",
    "    #print \"1974 Table\"\n",
    "    table1974 = arcpy.da.SearchCursor(wetlands1974Table,[\"TWCAT74\",\"SUM_Acreage\"])\n",
    "    for row in table1974:\n",
    "        roundedNum1974 = \"%.2f\" % row[1]\n",
    "        if row[0] == \"FM\":\n",
    "            textDict['tblfm1974'].text = str(roundedNum1974)\n",
    "        elif row[0] == \"HM\":\n",
    "            textDict['tblhm1974'].text = str(roundedNum1974)\n",
    "        elif row[0] == \"IM\":\n",
    "            textDict['tblim1974'].text = str(roundedNum1974)\n",
    "        elif row[0] == \"PH\":\n",
    "            textDict['tblphrag1974'].text = str(roundedNum1974)\n",
    "        #print row[0] + \", \" + roundedNum1974\n",
    "    \n",
    "    #print \"2008 Table\"\n",
    "    table2008 = arcpy.da.SearchCursor(wetlands2008Table,[\"TWL_Class\",\"SUM_Acreage\"])\n",
    "    for row1 in table2008:\n",
    "        roundedNum2008 = \"%.2f\" % row1[1]\n",
    "        if row1[0] == \"FreshMarsh\":\n",
    "            textDict['tblfm2008'].text = str(roundedNum2008)\n",
    "        elif row1[0] == \"HighMarsh\":\n",
    "            textDict['tblhm2008'].text = str(roundedNum2008)\n",
    "        elif row1[0] == \"IntertidalMarsh\":\n",
    "            textDict['tblim2008'].text = str(roundedNum2008)\n",
    "        elif row1[0] == \"Panne/Unvegetated\":\n",
    "            textDict['tblpanne2008'].text = str(roundedNum2008)\n",
    "        elif row1[0] == \"Phragmites\":\n",
    "            textDict['tblphrag2008'].text = str(roundedNum2008)\n",
    "        elif row1[0] == \"Unvegetated\":\n",
    "            textDict['tblunv2008'].text = str(roundedNum2008)\n",
    "        elif row1[0] == \"Upland\":\n",
    "            textDict['tblup2008'].text = str(roundedNum2008)\n",
    "        #print row1[0] +\", \" + roundedNum2008\n",
    "    \n",
    "    \n",
    "    calculateDifference()\n",
    "    \n",
    "    centerColumns()\n",
    "    #make a copy of the template and name it after the facility name \n",
    "    newMap = mapLocation + \"\\\\\" + mapName + \".mxd\"\n",
    "    template.saveACopy(newMap)\n",
    "    #remove the summary table so it doesn't appear in subsequent map documents\n",
    "    arcpy.mapping.RemoveTableView(dfBefore, wetlands1974Table)\n",
    "    arcpy.mapping.RemoveTableView(dfAfter, wetlands2008Table)\n",
    "    setToZero()\n"
   ]
  },
  {
   "cell_type": "code",
   "execution_count": 40,
   "metadata": {
    "collapsed": true
   },
   "outputs": [],
   "source": [
    "del row, rows, template\n",
    "del newMap \n",
    "del wetlands2008Table \n",
    "del wetlands1974Table"
   ]
  },
  {
   "cell_type": "code",
   "execution_count": null,
   "metadata": {
    "collapsed": true
   },
   "outputs": [],
   "source": []
  }
 ],
 "metadata": {
  "anaconda-cloud": {},
  "kernelspec": {
   "display_name": "Python [Root]",
   "language": "python",
   "name": "Python [Root]"
  },
  "language_info": {
   "codemirror_mode": {
    "name": "ipython",
    "version": 2
   },
   "file_extension": ".py",
   "mimetype": "text/x-python",
   "name": "python",
   "nbconvert_exporter": "python",
   "pygments_lexer": "ipython2",
   "version": "2.7.12"
  }
 },
 "nbformat": 4,
 "nbformat_minor": 0
}
